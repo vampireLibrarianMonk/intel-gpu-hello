{
 "cells": [
  {
   "cell_type": "code",
   "execution_count": 4,
   "id": "a245b54c-78d6-4b1f-88fe-e086c90a7944",
   "metadata": {},
   "outputs": [
    {
     "name": "stdin",
     "output_type": "stream",
     "text": [
      "Enter your API token:  ········\n"
     ]
    }
   ],
   "source": [
    "from getpass import getpass\n",
    "\n",
    "# Get from you hugging face account\n",
    "api_token = getpass('Enter your API token: ')"
   ]
  },
  {
   "cell_type": "code",
   "execution_count": 5,
   "id": "60fdedfd-5051-45e5-aefc-f7dbdb232791",
   "metadata": {},
   "outputs": [],
   "source": [
    "from huggingface_hub import login\n",
    "login(token=api_token)"
   ]
  },
  {
   "cell_type": "code",
   "execution_count": 6,
   "id": "ca3c4e4b-3330-4b62-a75b-1c0d51e515d8",
   "metadata": {},
   "outputs": [],
   "source": [
    "import os\n",
    "os.environ['OCL_ICD_VENDORS'] = '/etc/OpenCL/vendors'\n",
    "os.environ['CCL_ROOT'] = os.environ.get('CONDA_PREFIX', '')\n",
    "os.environ['USE_XETLA'] = 'OFF'\n",
    "os.environ['SYCL_CACHE_PERSISTENT'] = '1'\n",
    "os.environ['SYCL_PI_LEVEL_ZERO_USE_IMMEDIATE_COMMANDLISTS'] = '1'"
   ]
  },
  {
   "cell_type": "code",
   "execution_count": 7,
   "id": "28cb5007-902e-4386-86d6-ca147a2045ad",
   "metadata": {},
   "outputs": [],
   "source": [
    "import torch\n",
    "import time\n",
    "import argparse\n",
    "\n",
    "from ipex_llm.transformers import AutoModelForCausalLM\n",
    "from transformers import AutoTokenizer\n",
    "\n",
    "from IPython.display import Markdown"
   ]
  },
  {
   "cell_type": "code",
   "execution_count": 8,
   "id": "0b5c0885-9c75-4880-b44b-df9b9b7e43d3",
   "metadata": {},
   "outputs": [],
   "source": [
    "def get_prompt(user_input: str, chat_history: list[tuple[str, str]], system_prompt: str) -> str:\n",
    "    \"\"\"\n",
    "    Generate a formatted prompt for a LLaMA 3.1 chatbot conversation.\n",
    "\n",
    "    This function takes the user's input, chat history, and system prompt,\n",
    "    and combines them into a single formatted string for use in a LLaMA 3.1 chatbot system.\n",
    "\n",
    "    Parameters:\n",
    "    user_input (str): The current input from the user.\n",
    "    chat_history (list[tuple[str, str]]): A list of tuples containing previous \n",
    "                                          (user_input, assistant_response) pairs.\n",
    "    system_prompt (str): Initial instructions or context for the LLaMA 3.1 chatbot.\n",
    "\n",
    "    Returns:\n",
    "    str: A formatted string containing the entire conversation history and current input.\n",
    "    \"\"\"\n",
    "    \n",
    "    # Start the prompt with a special token\n",
    "    prompt_texts = ['<|begin_of_text|>']\n",
    "\n",
    "    # Add system prompt if it's not empty\n",
    "    if system_prompt != '':\n",
    "        prompt_texts.append(f'<|start_header_id|>system<|end_header_id|>\\n\\n{system_prompt}<|eot_id|>')\n",
    "\n",
    "    # Add each pair of user input and assistant response from the chat history\n",
    "    for history_input, history_response in chat_history:\n",
    "        prompt_texts.append(f'<|start_header_id|>user<|end_header_id|>\\n\\n{history_input.strip()}<|eot_id|>')\n",
    "        prompt_texts.append(f'<|start_header_id|>assistant<|end_header_id|>\\n\\n{history_response.strip()}<|eot_id|>')\n",
    "\n",
    "    # Add the current user input and prepare for assistant's response\n",
    "    prompt_texts.append(f'<|start_header_id|>user<|end_header_id|>\\n\\n{user_input.strip()}<|eot_id|><|start_header_id|>assistant<|end_header_id|>\\n\\n')\n",
    "    \n",
    "    # Join all parts of the prompt into a single string\n",
    "    return ''.join(prompt_texts)"
   ]
  },
  {
   "cell_type": "code",
   "execution_count": null,
   "id": "0325eeb4-7b4d-4274-83b1-9cd5b75e4e81",
   "metadata": {},
   "outputs": [
    {
     "data": {
      "application/vnd.jupyter.widget-view+json": {
       "model_id": "66cee4bf301e41cebac2484c221c0c00",
       "version_major": 2,
       "version_minor": 0
      },
      "text/plain": [
       "config.json:   0%|          | 0.00/855 [00:00<?, ?B/s]"
      ]
     },
     "metadata": {},
     "output_type": "display_data"
    },
    {
     "data": {
      "application/vnd.jupyter.widget-view+json": {
       "model_id": "48d208841f35486c9a92a4f845475edf",
       "version_major": 2,
       "version_minor": 0
      },
      "text/plain": [
       "model.safetensors.index.json:   0%|          | 0.00/23.9k [00:00<?, ?B/s]"
      ]
     },
     "metadata": {},
     "output_type": "display_data"
    },
    {
     "data": {
      "application/vnd.jupyter.widget-view+json": {
       "model_id": "c265c8e621f945b9bc53640d19f127fc",
       "version_major": 2,
       "version_minor": 0
      },
      "text/plain": [
       "Downloading shards:   0%|          | 0/4 [00:00<?, ?it/s]"
      ]
     },
     "metadata": {},
     "output_type": "display_data"
    },
    {
     "data": {
      "application/vnd.jupyter.widget-view+json": {
       "model_id": "33fb8b11084e49469a094f99d175a09d",
       "version_major": 2,
       "version_minor": 0
      },
      "text/plain": [
       "model-00001-of-00004.safetensors:   0%|          | 0.00/4.98G [00:00<?, ?B/s]"
      ]
     },
     "metadata": {},
     "output_type": "display_data"
    },
    {
     "data": {
      "application/vnd.jupyter.widget-view+json": {
       "model_id": "58749bbffe0041ab8fcd90fe6b36ef28",
       "version_major": 2,
       "version_minor": 0
      },
      "text/plain": [
       "model-00002-of-00004.safetensors:   0%|          | 0.00/5.00G [00:00<?, ?B/s]"
      ]
     },
     "metadata": {},
     "output_type": "display_data"
    }
   ],
   "source": [
    "model_path = \"meta-llama/Meta-Llama-3.1-8B-Instruct\"\n",
    "\n",
    "# Load model in 4 bit, which converts the relevant layers in the model into INT4 format\n",
    "model = AutoModelForCausalLM.from_pretrained(model_path,\n",
    "                                             load_in_4bit=True,\n",
    "                                             optimize_model=True,\n",
    "                                             trust_remote_code=True,\n",
    "                                             use_cache=True)\n",
    "model = model.half().to('xpu')\n",
    "\n",
    "# Load tokenizer\n",
    "tokenizer = AutoTokenizer.from_pretrained(model_path, trust_remote_code=True)"
   ]
  },
  {
   "cell_type": "code",
   "execution_count": null,
   "id": "435a926b-2a10-4efb-ac4c-8c3c34a11c9f",
   "metadata": {},
   "outputs": [],
   "source": [
    "DEFAULT_SYSTEM_PROMPT = \"\"\"\\\n",
    "\"\"\"\n",
    "\n",
    "prompt_str = \"Provide a clear, concise, and intuitive description of AI for beginners.\"\n",
    "max_new_tokens = 512"
   ]
  },
  {
   "cell_type": "code",
   "execution_count": null,
   "id": "7c2c1046-57be-4198-81a7-903e669b5283",
   "metadata": {},
   "outputs": [],
   "source": [
    "# Disable gradient computation for inference\n",
    "with torch.inference_mode():\n",
    "    # Generate the input prompt using a custom function\n",
    "    prompt = get_prompt(prompt_str, [], system_prompt=DEFAULT_SYSTEM_PROMPT)\n",
    "    \n",
    "    # Encode the prompt into token IDs and move to the XPU (Intel's GPU)\n",
    "    input_ids = tokenizer.encode(prompt, return_tensors=\"pt\").to('xpu')\n",
    "    \n",
    "    # Perform a warmup run to optimize the model\n",
    "    # This run's output is discarded\n",
    "    output = model.generate(input_ids, max_new_tokens=max_new_tokens)\n",
    "\n",
    "    # Start the actual inference\n",
    "    st = time.time()  # Record the start time\n",
    "    \n",
    "    # Generate the output using the language model\n",
    "    output = model.generate(input_ids, max_new_tokens=max_new_tokens)\n",
    "    \n",
    "    # Ensure all XPU operations are completed before recording end time\n",
    "    torch.xpu.synchronize()\n",
    "    \n",
    "    end = time.time()  # Record the end time\n",
    "    \n",
    "    # Move the output back to CPU for further processing\n",
    "    output = output.cpu()\n",
    "    \n",
    "    # Decode the output tokens into a human-readable string\n",
    "    # skip_special_tokens=False means we keep all special tokens in the output\n",
    "    output_str = tokenizer.decode(output[0], skip_special_tokens=False)\n",
    "    \n",
    "    # Print the inference time\n",
    "    print(f'Inference time: {end-st:.2f} seconds')\n",
    "    \n",
    "    # Print the original prompt\n",
    "    print('-'*20, 'Prompt', '-'*20)\n",
    "    print(prompt)\n",
    "\n",
    "# Print the model's response\n",
    "print('-'*20, 'Response (skip_special_tokens=False)', '-'*20)\n",
    "\n",
    "# Extract the actual response from the output string\n",
    "# This assumes the response is between the last '<|end_header_id|>\\n\\n' and '<|eot_id|>'\n",
    "response = output_str.split('<|end_header_id|>\\n\\n')[-1].split('<|eot_id|>')[0]\n",
    "\n",
    "# Display the response using Markdown formatting\n",
    "Markdown(response)"
   ]
  }
 ],
 "metadata": {
  "kernelspec": {
   "display_name": "Python 3 (ipykernel)",
   "language": "python",
   "name": "python3"
  },
  "language_info": {
   "codemirror_mode": {
    "name": "ipython",
    "version": 3
   },
   "file_extension": ".py",
   "mimetype": "text/x-python",
   "name": "python",
   "nbconvert_exporter": "python",
   "pygments_lexer": "ipython3",
   "version": "3.10.16"
  }
 },
 "nbformat": 4,
 "nbformat_minor": 5
}
