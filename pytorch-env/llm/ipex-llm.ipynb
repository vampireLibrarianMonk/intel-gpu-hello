{
 "cells": [
  {
   "cell_type": "code",
   "execution_count": 1,
   "id": "a245b54c-78d6-4b1f-88fe-e086c90a7944",
   "metadata": {},
   "outputs": [
    {
     "name": "stdin",
     "output_type": "stream",
     "text": [
      "Enter your API token:  ········\n"
     ]
    }
   ],
   "source": [
    "from getpass import getpass\n",
    "\n",
    "# Get from you hugging face account\n",
    "api_token = getpass('Enter your API token: ')"
   ]
  },
  {
   "cell_type": "code",
   "execution_count": 2,
   "id": "60fdedfd-5051-45e5-aefc-f7dbdb232791",
   "metadata": {},
   "outputs": [],
   "source": [
    "from huggingface_hub import login\n",
    "login(token=api_token)"
   ]
  },
  {
   "cell_type": "code",
   "execution_count": 6,
   "id": "ca3c4e4b-3330-4b62-a75b-1c0d51e515d8",
   "metadata": {},
   "outputs": [],
   "source": [
    "import os\n",
    "os.environ['OCL_ICD_VENDORS'] = '/etc/OpenCL/vendors'\n",
    "os.environ['CCL_ROOT'] = os.environ.get('CONDA_PREFIX', '')\n",
    "os.environ['USE_XETLA'] = 'OFF'\n",
    "os.environ['SYCL_CACHE_PERSISTENT'] = '1'\n",
    "os.environ['SYCL_PI_LEVEL_ZERO_USE_IMMEDIATE_COMMANDLISTS'] = '1'"
   ]
  },
  {
   "cell_type": "code",
   "execution_count": 7,
   "id": "28cb5007-902e-4386-86d6-ca147a2045ad",
   "metadata": {},
   "outputs": [],
   "source": [
    "import torch\n",
    "import time\n",
    "import argparse\n",
    "\n",
    "from ipex_llm.transformers import AutoModelForCausalLM\n",
    "from transformers import AutoTokenizer\n",
    "\n",
    "from IPython.display import Markdown"
   ]
  },
  {
   "cell_type": "code",
   "execution_count": 8,
   "id": "0b5c0885-9c75-4880-b44b-df9b9b7e43d3",
   "metadata": {},
   "outputs": [],
   "source": [
    "def get_prompt(user_input: str, chat_history: list[tuple[str, str]], system_prompt: str) -> str:\n",
    "    \"\"\"\n",
    "    Generate a formatted prompt for a LLaMA 3.1 chatbot conversation.\n",
    "\n",
    "    This function takes the user's input, chat history, and system prompt,\n",
    "    and combines them into a single formatted string for use in a LLaMA 3.1 chatbot system.\n",
    "\n",
    "    Parameters:\n",
    "    user_input (str): The current input from the user.\n",
    "    chat_history (list[tuple[str, str]]): A list of tuples containing previous \n",
    "                                          (user_input, assistant_response) pairs.\n",
    "    system_prompt (str): Initial instructions or context for the LLaMA 3.1 chatbot.\n",
    "\n",
    "    Returns:\n",
    "    str: A formatted string containing the entire conversation history and current input.\n",
    "    \"\"\"\n",
    "    \n",
    "    # Start the prompt with a special token\n",
    "    prompt_texts = ['<|begin_of_text|>']\n",
    "\n",
    "    # Add system prompt if it's not empty\n",
    "    if system_prompt != '':\n",
    "        prompt_texts.append(f'<|start_header_id|>system<|end_header_id|>\\n\\n{system_prompt}<|eot_id|>')\n",
    "\n",
    "    # Add each pair of user input and assistant response from the chat history\n",
    "    for history_input, history_response in chat_history:\n",
    "        prompt_texts.append(f'<|start_header_id|>user<|end_header_id|>\\n\\n{history_input.strip()}<|eot_id|>')\n",
    "        prompt_texts.append(f'<|start_header_id|>assistant<|end_header_id|>\\n\\n{history_response.strip()}<|eot_id|>')\n",
    "\n",
    "    # Add the current user input and prepare for assistant's response\n",
    "    prompt_texts.append(f'<|start_header_id|>user<|end_header_id|>\\n\\n{user_input.strip()}<|eot_id|><|start_header_id|>assistant<|end_header_id|>\\n\\n')\n",
    "    \n",
    "    # Join all parts of the prompt into a single string\n",
    "    return ''.join(prompt_texts)"
   ]
  },
  {
   "cell_type": "code",
   "execution_count": 9,
   "id": "0325eeb4-7b4d-4274-83b1-9cd5b75e4e81",
   "metadata": {},
   "outputs": [
    {
     "data": {
      "application/vnd.jupyter.widget-view+json": {
       "model_id": "b61e99d272a34af0911ece57b648296d",
       "version_major": 2,
       "version_minor": 0
      },
      "text/plain": [
       "Loading checkpoint shards:   0%|          | 0/4 [00:00<?, ?it/s]"
      ]
     },
     "metadata": {},
     "output_type": "display_data"
    },
    {
     "name": "stderr",
     "output_type": "stream",
     "text": [
      "2024-12-31 22:43:06,608 - INFO - Converting the current model to sym_int4 format......\n",
      "/home/flaniganp/intel/oneapi/lib/python3.10/site-packages/torch/nn/init.py:412: UserWarning: Initializing zero-element tensors is a no-op\n",
      "  warnings.warn(\"Initializing zero-element tensors is a no-op\")\n"
     ]
    },
    {
     "data": {
      "application/vnd.jupyter.widget-view+json": {
       "model_id": "537a0f49c0874f299a11388da70679a0",
       "version_major": 2,
       "version_minor": 0
      },
      "text/plain": [
       "tokenizer_config.json:   0%|          | 0.00/55.4k [00:00<?, ?B/s]"
      ]
     },
     "metadata": {},
     "output_type": "display_data"
    },
    {
     "data": {
      "application/vnd.jupyter.widget-view+json": {
       "model_id": "4c523363cba343f8a9a21f67ebd14d88",
       "version_major": 2,
       "version_minor": 0
      },
      "text/plain": [
       "tokenizer.json:   0%|          | 0.00/9.09M [00:00<?, ?B/s]"
      ]
     },
     "metadata": {},
     "output_type": "display_data"
    },
    {
     "data": {
      "application/vnd.jupyter.widget-view+json": {
       "model_id": "2aef8fe2d7b649b88d5ac8338a928583",
       "version_major": 2,
       "version_minor": 0
      },
      "text/plain": [
       "special_tokens_map.json:   0%|          | 0.00/296 [00:00<?, ?B/s]"
      ]
     },
     "metadata": {},
     "output_type": "display_data"
    }
   ],
   "source": [
    "model_path = \"meta-llama/Meta-Llama-3.1-8B-Instruct\"\n",
    "\n",
    "# Load model in 4 bit, which converts the relevant layers in the model into INT4 format\n",
    "model = AutoModelForCausalLM.from_pretrained(model_path,\n",
    "                                             load_in_4bit=True,\n",
    "                                             optimize_model=True,\n",
    "                                             trust_remote_code=True,\n",
    "                                             use_cache=True)\n",
    "model = model.half().to('xpu')\n",
    "\n",
    "# Load tokenizer\n",
    "tokenizer = AutoTokenizer.from_pretrained(model_path, trust_remote_code=True)"
   ]
  },
  {
   "cell_type": "code",
   "execution_count": 10,
   "id": "435a926b-2a10-4efb-ac4c-8c3c34a11c9f",
   "metadata": {},
   "outputs": [],
   "source": [
    "DEFAULT_SYSTEM_PROMPT = \"\"\"\\\n",
    "\"\"\"\n",
    "\n",
    "prompt_str = \"Provide a clear, concise, and intuitive description of AI for beginners.\"\n",
    "max_new_tokens = 512"
   ]
  },
  {
   "cell_type": "code",
   "execution_count": 11,
   "id": "7c2c1046-57be-4198-81a7-903e669b5283",
   "metadata": {},
   "outputs": [
    {
     "name": "stderr",
     "output_type": "stream",
     "text": [
      "The attention mask and the pad token id were not set. As a consequence, you may observe unexpected behavior. Please pass your input's `attention_mask` to obtain reliable results.\n",
      "Setting `pad_token_id` to `eos_token_id`:128001 for open-end generation.\n",
      "The attention mask is not set and cannot be inferred from input because pad token is same as eos token.As a consequence, you may observe unexpected behavior. Please pass your input's `attention_mask` to obtain reliable results.\n",
      "The attention mask and the pad token id were not set. As a consequence, you may observe unexpected behavior. Please pass your input's `attention_mask` to obtain reliable results.\n",
      "Setting `pad_token_id` to `eos_token_id`:128001 for open-end generation.\n"
     ]
    },
    {
     "name": "stdout",
     "output_type": "stream",
     "text": [
      "Inference time: 31.91 seconds\n",
      "-------------------- Prompt --------------------\n",
      "<|begin_of_text|><|start_header_id|>user<|end_header_id|>\n",
      "\n",
      "Provide a clear, concise, and intuitive description of AI for beginners.<|eot_id|><|start_header_id|>assistant<|end_header_id|>\n",
      "\n",
      "\n",
      "-------------------- Response (skip_special_tokens=False) --------------------\n"
     ]
    },
    {
     "data": {
      "text/markdown": [
       "Here's a simple and intuitive explanation of AI for beginners:\n",
       "\n",
       "**What is AI?**\n",
       "\n",
       "Artificial Intelligence (AI) refers to the development of computer systems that can perform tasks that would typically require human intelligence. These tasks include:\n",
       "\n",
       "* Learning from data\n",
       "* Recognizing patterns\n",
       "* Making decisions\n",
       "* Solving problems\n",
       "* Understanding language\n",
       "\n",
       "**How does AI work?**\n",
       "\n",
       "AI uses algorithms, which are like recipes for computers, to analyze data and make decisions. These algorithms are based on machine learning, a type of AI that allows computers to improve their performance on a task over time by learning from experience.\n",
       "\n",
       "**Types of AI:**\n",
       "\n",
       "1. **Narrow or Weak AI**: This type of AI is designed to perform a specific task, like a calculator or a weather app. It's like a tool that's great at one thing, but not much else.\n",
       "2. **General or Strong AI**: This type of AI is like a super-smart human who can understand and learn from a wide range of tasks. It's still in the early stages of development, but it's the goal of many researchers.\n",
       "3. **Superintelligence**: This type of AI is like a super-powerful, all-knowing being that's far beyond human intelligence. This is still purely theoretical, and many experts debate whether it's even possible.\n",
       "\n",
       "**Examples of AI in everyday life:**\n",
       "\n",
       "* Virtual assistants like Siri, Alexa, or Google Assistant\n",
       "* Image recognition apps like Google Photos\n",
       "* Self-driving cars\n",
       "* Recommendation systems like Netflix or Amazon\n",
       "* Chatbots that help with customer service\n",
       "\n",
       "**Key benefits of AI:**\n",
       "\n",
       "* **Efficiency**: AI can automate repetitive tasks, freeing up time for humans to focus on more creative and strategic work.\n",
       "* **Accuracy**: AI can analyze vast amounts of data and make decisions with high accuracy, reducing errors.\n",
       "* **Personalization**: AI can tailor experiences to individual preferences and needs.\n",
       "\n",
       "**Key challenges and concerns:**\n",
       "\n",
       "* **Bias**: AI can perpetuate biases if trained on biased data.\n",
       "* **Job displacement**: AI might replace certain jobs, potentially leading to unemployment.\n",
       "* **Security**: AI can be vulnerable to cyber attacks and data breaches.\n",
       "\n",
       "That's a basic overview of AI for beginners! I hope this helps you understand the concept and its implications."
      ],
      "text/plain": [
       "<IPython.core.display.Markdown object>"
      ]
     },
     "execution_count": 11,
     "metadata": {},
     "output_type": "execute_result"
    }
   ],
   "source": [
    "# Disable gradient computation for inference\n",
    "with torch.inference_mode():\n",
    "    # Generate the input prompt using a custom function\n",
    "    prompt = get_prompt(prompt_str, [], system_prompt=DEFAULT_SYSTEM_PROMPT)\n",
    "    \n",
    "    # Encode the prompt into token IDs and move to the XPU (Intel's GPU)\n",
    "    input_ids = tokenizer.encode(prompt, return_tensors=\"pt\").to('xpu')\n",
    "    \n",
    "    # Perform a warmup run to optimize the model\n",
    "    # This run's output is discarded\n",
    "    output = model.generate(input_ids, max_new_tokens=max_new_tokens)\n",
    "\n",
    "    # Start the actual inference\n",
    "    st = time.time()  # Record the start time\n",
    "    \n",
    "    # Generate the output using the language model\n",
    "    output = model.generate(input_ids, max_new_tokens=max_new_tokens)\n",
    "    \n",
    "    # Ensure all XPU operations are completed before recording end time\n",
    "    torch.xpu.synchronize()\n",
    "    \n",
    "    end = time.time()  # Record the end time\n",
    "    \n",
    "    # Move the output back to CPU for further processing\n",
    "    output = output.cpu()\n",
    "    \n",
    "    # Decode the output tokens into a human-readable string\n",
    "    # skip_special_tokens=False means we keep all special tokens in the output\n",
    "    output_str = tokenizer.decode(output[0], skip_special_tokens=False)\n",
    "    \n",
    "    # Print the inference time\n",
    "    print(f'Inference time: {end-st:.2f} seconds')\n",
    "    \n",
    "    # Print the original prompt\n",
    "    print('-'*20, 'Prompt', '-'*20)\n",
    "    print(prompt)\n",
    "\n",
    "# Print the model's response\n",
    "print('-'*20, 'Response (skip_special_tokens=False)', '-'*20)\n",
    "\n",
    "# Extract the actual response from the output string\n",
    "# This assumes the response is between the last '<|end_header_id|>\\n\\n' and '<|eot_id|>'\n",
    "response = output_str.split('<|end_header_id|>\\n\\n')[-1].split('<|eot_id|>')[0]\n",
    "\n",
    "# Display the response using Markdown formatting\n",
    "Markdown(response)"
   ]
  }
 ],
 "metadata": {
  "kernelspec": {
   "display_name": "Python 3 (ipykernel)",
   "language": "python",
   "name": "python3"
  },
  "language_info": {
   "codemirror_mode": {
    "name": "ipython",
    "version": 3
   },
   "file_extension": ".py",
   "mimetype": "text/x-python",
   "name": "python",
   "nbconvert_exporter": "python",
   "pygments_lexer": "ipython3",
   "version": "3.10.16"
  }
 },
 "nbformat": 4,
 "nbformat_minor": 5
}
